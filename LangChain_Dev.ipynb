{
 "cells": [
  {
   "cell_type": "code",
   "execution_count": 1,
   "id": "e8c87045-4c27-4025-99b9-4d124997a47e",
   "metadata": {},
   "outputs": [
    {
     "data": {
      "text/plain": [
       "'nt'"
      ]
     },
     "execution_count": 1,
     "metadata": {},
     "output_type": "execute_result"
    }
   ],
   "source": [
    "MESSAGE_SYSTEM_CONTENT = \"\"\"You are a customer service agent that helps a customer with answering questions. \n",
    "Please answer the question based on the provided context below. \n",
    "Make sure not to make any changes to the context, if possible, when preparing answers to provide accurate responses. \n",
    "If the answer cannot be found in context, just politely say that you do not know, do not try to make up an answer.\"\"\""
   ]
  },
  {
   "cell_type": "code",
   "execution_count": null,
   "id": "696d812f",
   "metadata": {},
   "outputs": [],
   "source": [
    "DOCUMENT:\n",
    "(document text)\n",
    "\n",
    "QUESTION:\n",
    "(users question)\n",
    "\n",
    "INSTRUCTIONS:\n",
    "Answer the users QUESTION using the DOCUMENT text above.\n",
    "Keep your answer ground in the facts of the DOCUMENT.\n",
    "If the DOCUMENT doesn’t contain the facts to answer the QUESTION return {NONE}"
   ]
  },
  {
   "cell_type": "code",
   "execution_count": null,
   "id": "3278f365",
   "metadata": {},
   "outputs": [],
   "source": [
    "the document contains field that need to be filled by users. Collect these fields and their value and organize them into a logical grouping.\n",
    "\n",
    "The ouput needs to be in a python dictionary format with  field name go into keys and values go into items.iter\n",
    "\n",
    "Example:\n",
    "\n",
    "Employer goes to Key\n",
    "John goes to item\n",
    "\n",
    "{employer:'John', ingredients}"
   ]
  },
  {
   "cell_type": "code",
   "execution_count": null,
   "id": "04252790",
   "metadata": {},
   "outputs": [],
   "source": [
    "The document is a recipe. You are to retrieve the name of the dish, ingredients, method of cooking. Also, you need to rate how much oily is this recipe. Criteria is 0 means no oil involved and 5 means it was deep fried.\n",
    "\n",
    "Out the information in a json format. \n",
    "\n",
    "Example:\n",
    "{dish_name: 'steak', \n",
    " ingredients: \"1 egg, 500 ml water, 2 cups flour\",\n",
    " method: \"prepare and put into oven\",\n",
    " oil_rating: 2}"
   ]
  },
  {
   "cell_type": "code",
   "execution_count": null,
   "id": "d4d330e6-1edf-4c03-a072-8b816b40a04d",
   "metadata": {},
   "outputs": [],
   "source": [
    "import streamlit as st\n",
    "\n",
    "from langchain_community.document_loaders import SeleniumURLLoader\n",
    "from langchain_text_splitters import RecursiveCharacterTextSplitter\n",
    "from langchain_core.vectorstores import InMemoryVectorStore\n",
    "from langchain_ollama import OllamaEmbeddings\n",
    "from langchain_core.prompts import ChatPromptTemplate\n",
    "from langchain_ollama.llms import OllamaLLM\n",
    "\n",
    "template = \"\"\"\n",
    "You are an assistant for question-answering tasks. Use the following pieces of retrieved context to answer the question. If you don't know the answer, just say that you don't know. Use three sentences maximum and keep the answer concise.\n",
    "Question: {question} \n",
    "Context: {context} \n",
    "Answer:\n",
    "\"\"\"\n",
    "\n",
    "embeddings = OllamaEmbeddings(model=\"llama3.2\")\n",
    "vector_store = InMemoryVectorStore(embeddings)\n",
    "\n",
    "model = OllamaLLM(model=\"llama3.2\")\n",
    "\n",
    "def load_page(url):\n",
    "    loader = SeleniumURLLoader(\n",
    "        urls=[url]\n",
    "    )\n",
    "    documents = loader.load()\n",
    "\n",
    "    return documents\n",
    "\n",
    "def split_text(documents):\n",
    "    text_splitter = RecursiveCharacterTextSplitter(\n",
    "        chunk_size=1000,\n",
    "        chunk_overlap=200,\n",
    "        add_start_index=True\n",
    "    )\n",
    "    data = text_splitter.split_documents(documents)\n",
    "\n",
    "    return data\n",
    "\n",
    "def index_docs(documents):\n",
    "    vector_store.add_documents(documents)\n",
    "\n",
    "def retrieve_docs(query):\n",
    "    return vector_store.similarity_search(query)\n",
    "\n",
    "def answer_question(question, context):\n",
    "    prompt = ChatPromptTemplate.from_template(template)\n",
    "    chain = prompt | model\n",
    "    return chain.invoke({\"question\": question, \"context\": context})\n",
    "\n",
    "st.title(\"AI Crawler\")\n",
    "url = st.text_input(\"Enter URL:\")\n",
    "\n",
    "documents = load_page(url)\n",
    "chunked_documents = split_text(documents)\n",
    "\n",
    "index_docs(chunked_documents)\n",
    "\n",
    "question = st.chat_input()\n",
    "\n",
    "if question:\n",
    "    st.chat_message(\"user\").write(question)\n",
    "    retrieve_documents = retrieve_docs(question)\n",
    "    context = \"\\n\\n\".join([doc.page_content for doc in retrieve_documents])\n",
    "    answer = answer_question(question, context)\n",
    "    st.chat_message(\"assistant\").write(answer)"
   ]
  },
  {
   "cell_type": "code",
   "execution_count": 8,
   "id": "8f15c03d-5fd1-4715-9ecc-4b132faa1d2c",
   "metadata": {},
   "outputs": [
    {
     "name": "stdout",
     "output_type": "stream",
     "text": [
      "1 egg\n",
      "500 ml water\n",
      "2 cups flour\n"
     ]
    }
   ],
   "source": [
    "data = \"1 egg, 500 ml water, 2 cups flour\"\n",
    "print(data.replace(\", \",\"\\n\"))"
   ]
  },
  {
   "cell_type": "code",
   "execution_count": null,
   "id": "afce81d8-3ddd-4f62-aeca-366620422f45",
   "metadata": {},
   "outputs": [],
   "source": []
  },
  {
   "cell_type": "code",
   "execution_count": null,
   "id": "55623152-4d71-4111-9187-a99cd2553777",
   "metadata": {},
   "outputs": [],
   "source": []
  },
  {
   "cell_type": "code",
   "execution_count": null,
   "id": "2a629b66-96c0-4604-bbb9-c2466af13853",
   "metadata": {},
   "outputs": [],
   "source": []
  },
  {
   "cell_type": "code",
   "execution_count": null,
   "id": "469914f4-5d67-42e2-93cb-45d515576e94",
   "metadata": {},
   "outputs": [],
   "source": []
  }
 ],
 "metadata": {
  "kernelspec": {
   "display_name": "streamlit",
   "language": "python",
   "name": "python3"
  },
  "language_info": {
   "codemirror_mode": {
    "name": "ipython",
    "version": 3
   },
   "file_extension": ".py",
   "mimetype": "text/x-python",
   "name": "python",
   "nbconvert_exporter": "python",
   "pygments_lexer": "ipython3",
   "version": "3.10.0"
  }
 },
 "nbformat": 4,
 "nbformat_minor": 5
}
